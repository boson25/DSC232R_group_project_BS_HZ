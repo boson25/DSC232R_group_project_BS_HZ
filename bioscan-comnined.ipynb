{
 "cells": [
  {
   "cell_type": "code",
   "execution_count": 1,
   "id": "2063b7ca-5832-4b65-883e-2bb7ce29e1c3",
   "metadata": {},
   "outputs": [],
   "source": [
    "# Data exploration"
   ]
  },
  {
   "cell_type": "code",
   "execution_count": 2,
   "id": "d39e10c5-3216-49b4-80f8-2a7232276a79",
   "metadata": {},
   "outputs": [],
   "source": [
    "# Setting up enviornment\n",
    "import os\n",
    "\n",
    "os.environ['TRANSFORMERS_CACHE'] = '/scratch/hf_cache'\n",
    "os.environ['HF_HOME'] = '/scratch/hf_cache'"
   ]
  },
  {
   "cell_type": "code",
   "execution_count": 4,
   "id": "e7e78320-96d9-418f-8185-c7edaaafa5d7",
   "metadata": {},
   "outputs": [
    {
     "name": "stdout",
     "output_type": "stream",
     "text": [
      "\u001b[33mWARNING: The directory '/home/jovyan/.cache/pip' or its parent directory is not owned or is not writable by the current user. The cache has been disabled. Check the permissions and owner of that directory. If executing pip with sudo, you should use sudo's -H flag.\u001b[0m\u001b[33m\n",
      "\u001b[0mDefaulting to user installation because normal site-packages is not writeable\n",
      "Requirement already satisfied: bioscan-dataset in /home/hzhao16/.local/lib/python3.11/site-packages (1.3.0)\n",
      "Requirement already satisfied: numpy>=1.21.0 in /opt/conda/lib/python3.11/site-packages (from bioscan-dataset) (1.24.4)\n",
      "Requirement already satisfied: pandas>=1.0.0 in /opt/conda/lib/python3.11/site-packages (from bioscan-dataset) (2.0.3)\n",
      "Requirement already satisfied: Pillow>=4.1.1 in /opt/conda/lib/python3.11/site-packages (from bioscan-dataset) (10.1.0)\n",
      "Requirement already satisfied: torch>=1.4.0 in /opt/conda/lib/python3.11/site-packages (from bioscan-dataset) (2.2.2)\n",
      "Requirement already satisfied: torchvision>=0.6.0 in /opt/conda/lib/python3.11/site-packages (from bioscan-dataset) (0.17.2)\n",
      "Requirement already satisfied: python-dateutil>=2.8.2 in /opt/conda/lib/python3.11/site-packages (from pandas>=1.0.0->bioscan-dataset) (2.8.2)\n",
      "Requirement already satisfied: pytz>=2020.1 in /opt/conda/lib/python3.11/site-packages (from pandas>=1.0.0->bioscan-dataset) (2023.3.post1)\n",
      "Requirement already satisfied: tzdata>=2022.1 in /opt/conda/lib/python3.11/site-packages (from pandas>=1.0.0->bioscan-dataset) (2023.3)\n",
      "Requirement already satisfied: filelock in /opt/conda/lib/python3.11/site-packages (from torch>=1.4.0->bioscan-dataset) (3.13.4)\n",
      "Requirement already satisfied: typing-extensions>=4.8.0 in /opt/conda/lib/python3.11/site-packages (from torch>=1.4.0->bioscan-dataset) (4.8.0)\n",
      "Requirement already satisfied: sympy in /opt/conda/lib/python3.11/site-packages (from torch>=1.4.0->bioscan-dataset) (1.12)\n",
      "Requirement already satisfied: networkx in /opt/conda/lib/python3.11/site-packages (from torch>=1.4.0->bioscan-dataset) (3.2)\n",
      "Requirement already satisfied: jinja2 in /opt/conda/lib/python3.11/site-packages (from torch>=1.4.0->bioscan-dataset) (3.1.2)\n",
      "Requirement already satisfied: fsspec in /opt/conda/lib/python3.11/site-packages (from torch>=1.4.0->bioscan-dataset) (2023.9.2)\n",
      "Requirement already satisfied: nvidia-cuda-nvrtc-cu12==12.1.105 in /opt/conda/lib/python3.11/site-packages (from torch>=1.4.0->bioscan-dataset) (12.1.105)\n",
      "Requirement already satisfied: nvidia-cuda-runtime-cu12==12.1.105 in /opt/conda/lib/python3.11/site-packages (from torch>=1.4.0->bioscan-dataset) (12.1.105)\n",
      "Requirement already satisfied: nvidia-cuda-cupti-cu12==12.1.105 in /opt/conda/lib/python3.11/site-packages (from torch>=1.4.0->bioscan-dataset) (12.1.105)\n",
      "Requirement already satisfied: nvidia-cudnn-cu12==8.9.2.26 in /opt/conda/lib/python3.11/site-packages (from torch>=1.4.0->bioscan-dataset) (8.9.2.26)\n",
      "Requirement already satisfied: nvidia-cublas-cu12==12.1.3.1 in /opt/conda/lib/python3.11/site-packages (from torch>=1.4.0->bioscan-dataset) (12.1.3.1)\n",
      "Requirement already satisfied: nvidia-cufft-cu12==11.0.2.54 in /opt/conda/lib/python3.11/site-packages (from torch>=1.4.0->bioscan-dataset) (11.0.2.54)\n",
      "Requirement already satisfied: nvidia-curand-cu12==10.3.2.106 in /opt/conda/lib/python3.11/site-packages (from torch>=1.4.0->bioscan-dataset) (10.3.2.106)\n",
      "Requirement already satisfied: nvidia-cusolver-cu12==11.4.5.107 in /opt/conda/lib/python3.11/site-packages (from torch>=1.4.0->bioscan-dataset) (11.4.5.107)\n",
      "Requirement already satisfied: nvidia-cusparse-cu12==12.1.0.106 in /opt/conda/lib/python3.11/site-packages (from torch>=1.4.0->bioscan-dataset) (12.1.0.106)\n",
      "Requirement already satisfied: nvidia-nccl-cu12==2.19.3 in /opt/conda/lib/python3.11/site-packages (from torch>=1.4.0->bioscan-dataset) (2.19.3)\n",
      "Requirement already satisfied: nvidia-nvtx-cu12==12.1.105 in /opt/conda/lib/python3.11/site-packages (from torch>=1.4.0->bioscan-dataset) (12.1.105)\n",
      "Requirement already satisfied: triton==2.2.0 in /opt/conda/lib/python3.11/site-packages (from torch>=1.4.0->bioscan-dataset) (2.2.0)\n",
      "Requirement already satisfied: nvidia-nvjitlink-cu12 in /opt/conda/lib/python3.11/site-packages (from nvidia-cusolver-cu12==11.4.5.107->torch>=1.4.0->bioscan-dataset) (12.4.127)\n",
      "Requirement already satisfied: six>=1.5 in /opt/conda/lib/python3.11/site-packages (from python-dateutil>=2.8.2->pandas>=1.0.0->bioscan-dataset) (1.16.0)\n",
      "Requirement already satisfied: MarkupSafe>=2.0 in /opt/conda/lib/python3.11/site-packages (from jinja2->torch>=1.4.0->bioscan-dataset) (2.1.3)\n",
      "Requirement already satisfied: mpmath>=0.19 in /opt/conda/lib/python3.11/site-packages (from sympy->torch>=1.4.0->bioscan-dataset) (1.3.0)\n"
     ]
    }
   ],
   "source": [
    "# Loading images from bioscan dataset\n",
    "!pip install bioscan-dataset\n",
    "from bioscan_dataset import BIOSCAN5M\n",
    "ds = BIOSCAN5M(\"./Data/5m\", download=True)"
   ]
  },
  {
   "cell_type": "code",
   "execution_count": 5,
   "id": "fab95a2f-cd73-4df3-aa4b-7f8405731dc1",
   "metadata": {},
   "outputs": [],
   "source": [
    "# load metadata\n",
    "from pyspark.sql import SparkSession\n",
    "\n",
    "# set up SparkSession\n",
    "spark = SparkSession.builder \\\n",
    "    .config(\"spark.driver.memory\", \"8g\") \\\n",
    "    .config(\"spark.executor.memory\", \"8g\") \\\n",
    "    .config(\"spark.executor.instances\", 7) \\\n",
    "    .getOrCreate()"
   ]
  },
  {
   "cell_type": "code",
   "execution_count": 6,
   "id": "f89f72f2-3c98-47df-845b-f62bb00de367",
   "metadata": {},
   "outputs": [],
   "source": [
    "# Writable directory for cache and config files\n",
    "import os\n",
    "cache_dir = os.path.join(os.getcwd(), \"mpl_cache\")\n",
    "\n",
    "os.makedirs(cache_dir, exist_ok=True)\n",
    "os.environ[\"MPLCONFIGDIR\"] = cache_dir"
   ]
  },
  {
   "cell_type": "code",
   "execution_count": 7,
   "id": "2a98b4a6-ebc5-4297-80ab-a70ac2b49100",
   "metadata": {},
   "outputs": [
    {
     "name": "stdout",
     "output_type": "stream",
     "text": [
      "\u001b[33mWARNING: The directory '/home/jovyan/.cache/pip' or its parent directory is not owned or is not writable by the current user. The cache has been disabled. Check the permissions and owner of that directory. If executing pip with sudo, you should use sudo's -H flag.\u001b[0m\u001b[33m\n",
      "\u001b[0mDefaulting to user installation because normal site-packages is not writeable\n",
      "Requirement already satisfied: folium in /home/hzhao16/.local/lib/python3.11/site-packages (0.19.5)\n",
      "Requirement already satisfied: branca>=0.6.0 in /opt/conda/lib/python3.11/site-packages (from folium) (0.7.1)\n",
      "Requirement already satisfied: jinja2>=2.9 in /opt/conda/lib/python3.11/site-packages (from folium) (3.1.2)\n",
      "Requirement already satisfied: numpy in /opt/conda/lib/python3.11/site-packages (from folium) (1.24.4)\n",
      "Requirement already satisfied: requests in /opt/conda/lib/python3.11/site-packages (from folium) (2.31.0)\n",
      "Requirement already satisfied: xyzservices in /opt/conda/lib/python3.11/site-packages (from folium) (2023.10.0)\n",
      "Requirement already satisfied: MarkupSafe>=2.0 in /opt/conda/lib/python3.11/site-packages (from jinja2>=2.9->folium) (2.1.3)\n",
      "Requirement already satisfied: charset-normalizer<4,>=2 in /opt/conda/lib/python3.11/site-packages (from requests->folium) (3.3.0)\n",
      "Requirement already satisfied: idna<4,>=2.5 in /opt/conda/lib/python3.11/site-packages (from requests->folium) (3.4)\n",
      "Requirement already satisfied: urllib3<3,>=1.21.1 in /opt/conda/lib/python3.11/site-packages (from requests->folium) (2.0.7)\n",
      "Requirement already satisfied: certifi>=2017.4.17 in /opt/conda/lib/python3.11/site-packages (from requests->folium) (2024.2.2)\n"
     ]
    }
   ],
   "source": [
    "!pip install folium\n",
    "\n",
    "import numpy as np\n",
    "import seaborn as sns\n",
    "import pandas as pd\n",
    "import matplotlib.pyplot as plt\n",
    "from pyspark.sql.functions import count, when, isnull, udf, lit, length, col, pandas_udf\n",
    "import warnings\n",
    "warnings.filterwarnings(\"ignore\", category=UserWarning, module='matplotlib')\n",
    "from pyspark.sql.types import ArrayType, StringType, IntegerType\n",
    "import pygeohash as geohash\n",
    "from pyspark.ml.clustering import KMeans\n",
    "from pyspark.ml.feature import VectorAssembler\n",
    "from pyspark.ml import Pipeline\n",
    "import random\n",
    "from PIL import Image, UnidentifiedImageError\n",
    "import torchvision.transforms as T\n",
    "from torchvision.datasets import ImageFolder\n",
    "from torch.utils.data import DataLoader\n",
    "import shutil\n",
    "from sklearn.model_selection import train_test_split\n",
    "import folium"
   ]
  },
  {
   "cell_type": "code",
   "execution_count": 8,
   "id": "3b5d2e19-33e3-431b-8ada-befb9970db4d",
   "metadata": {
    "scrolled": true
   },
   "outputs": [
    {
     "name": "stdout",
     "output_type": "stream",
     "text": [
      "root\n",
      " |-- processid: string (nullable = true)\n",
      " |-- sampleid: string (nullable = true)\n",
      " |-- taxon: string (nullable = true)\n",
      " |-- phylum: string (nullable = true)\n",
      " |-- class: string (nullable = true)\n",
      " |-- order: string (nullable = true)\n",
      " |-- family: string (nullable = true)\n",
      " |-- subfamily: string (nullable = true)\n",
      " |-- genus: string (nullable = true)\n",
      " |-- species: string (nullable = true)\n",
      " |-- dna_bin: string (nullable = true)\n",
      " |-- dna_barcode: string (nullable = true)\n",
      " |-- country: string (nullable = true)\n",
      " |-- province_state: string (nullable = true)\n",
      " |-- coord-lat: double (nullable = true)\n",
      " |-- coord-lon: double (nullable = true)\n",
      " |-- image_measurement_value: double (nullable = true)\n",
      " |-- area_fraction: double (nullable = true)\n",
      " |-- scale_factor: double (nullable = true)\n",
      " |-- inferred_ranks: integer (nullable = true)\n",
      " |-- split: string (nullable = true)\n",
      " |-- index_bioscan_1M_insect: double (nullable = true)\n",
      " |-- chunk: string (nullable = true)\n",
      "\n",
      "+-----------+--------------+--------------------+----------+-------+-----------+-------------+------------+------------+--------------------+------------+--------------------+----------+--------------+---------+---------+-----------------------+-------------+------------+--------------+--------+-----------------------+-----+\n",
      "|  processid|      sampleid|               taxon|    phylum|  class|      order|       family|   subfamily|       genus|             species|     dna_bin|         dna_barcode|   country|province_state|coord-lat|coord-lon|image_measurement_value|area_fraction|scale_factor|inferred_ranks|   split|index_bioscan_1M_insect|chunk|\n",
      "+-----------+--------------+--------------------+----------+-------+-----------+-------------+------------+------------+--------------------+------------+--------------------+----------+--------------+---------+---------+-----------------------+-------------+------------+--------------+--------+-----------------------+-----+\n",
      "|PLGBW211-19|BIOUG51398-C03|            Metopina|Arthropoda|Insecta|    Diptera|     Phoridae| Metopininae|    Metopina|                NULL|BOLD:ADA3807|CTTTATACTTTATTTTT...|Costa Rica|    Guanacaste|   10.761|  -85.335|                 2353.0|       0.0117|      0.2969|             0|pretrain|                   NULL|   4d|\n",
      "|PLGBW569-19|BIOUG51410-B10|        Chironomidae|Arthropoda|Insecta|    Diptera| Chironomidae|        NULL|        NULL|                NULL|BOLD:ACF6407|TCTTTATTTTATTTTTG...|Costa Rica|    Guanacaste|   10.761|  -85.335|                 8137.0|       0.0356|      0.5664|             0|pretrain|                   NULL|   4d|\n",
      "|PLGAI273-19|BIOUG51357-E12|        Aleocharinae|Arthropoda|Insecta| Coleoptera|Staphylinidae|Aleocharinae|        NULL|                NULL|BOLD:ADA6734|CTTTATATTTTATTTTT...|Costa Rica|    Guanacaste|   10.761|  -85.335|                28915.0|       0.0885|      0.9219|             0|pretrain|                   NULL|   c1|\n",
      "|PLGAE105-19|BIOUG51325-F12|Gnamptogenys sulcata|Arthropoda|Insecta|Hymenoptera|   Formicidae|Ectatomminae|Gnamptogenys|Gnamptogenys sulcata|BOLD:AAZ0087|TTTATATTTTATTTTTG...|Costa Rica|    Guanacaste|   10.761|  -85.335|               129334.0|       0.3962|      2.1133|             0|   train|                   NULL|    5|\n",
      "|PLGAE011-19|BIOUG51324-G01|       Chrysomelidae|Arthropoda|Insecta| Coleoptera|Chrysomelidae|        NULL|        NULL|                NULL|BOLD:ACJ1483|TTATATTTCTTATTTGG...|Costa Rica|    Guanacaste|   10.761|  -85.335|                66336.0|       0.2015|      1.3398|             0|pretrain|                   NULL|   93|\n",
      "+-----------+--------------+--------------------+----------+-------+-----------+-------------+------------+------------+--------------------+------------+--------------------+----------+--------------+---------+---------+-----------------------+-------------+------------+--------------+--------+-----------------------+-----+\n",
      "only showing top 5 rows\n",
      "\n"
     ]
    }
   ],
   "source": [
    "# Overview of dataset\n",
    "from pyspark.sql import SparkSession\n",
    "spark = SparkSession.builder.appName(\"BIOSCAN Metadata\").getOrCreate()\n",
    "df = spark.read.csv('BIOSCAN_5M_Insect_Dataset_metadata.csv', header=True, inferSchema=True)\n",
    "# df = spark.read.option(\"header\", True).csv(ds.metadata_path)\n",
    "df.printSchema()\n",
    "df.show(5)"
   ]
  },
  {
   "cell_type": "code",
   "execution_count": 9,
   "id": "68f173cc-ae28-4cb1-9235-935a549b45d5",
   "metadata": {},
   "outputs": [
    {
     "name": "stdout",
     "output_type": "stream",
     "text": [
      "+-------+------------+-----------------+-------------+----------+---------+---------+--------------------+--------------------+-------------+--------------------+------------+--------------------+-------+--------------+------------------+------------------+-----------------------+-------------------+------------------+-------------------+----------+-----------------------+------------------+\n",
      "|summary|   processid|         sampleid|        taxon|    phylum|    class|    order|              family|           subfamily|        genus|             species|     dna_bin|         dna_barcode|country|province_state|         coord-lat|         coord-lon|image_measurement_value|      area_fraction|      scale_factor|     inferred_ranks|     split|index_bioscan_1M_insect|             chunk|\n",
      "+-------+------------+-----------------+-------------+----------+---------+---------+--------------------+--------------------+-------------+--------------------+------------+--------------------+-------+--------------+------------------+------------------+-----------------------+-------------------+------------------+-------------------+----------+-----------------------+------------------+\n",
      "|  count|     5150850|          5150850|      5150850|   5150850|  5146837|  5134987|             4932774|             1472548|      1226765|              473094|     5137441|             5150850|5150842|       5058718|           5149019|           5149019|                5104212|            5150850|           5150850|            5150850|   5150850|                1126388|           5043549|\n",
      "|   mean|        NULL|             NULL|         NULL|      NULL|     NULL|     NULL|                NULL|                NULL|         NULL|                NULL|        NULL|                NULL|   NULL|           NaN|10.739411095080516|-55.08260450604797|      26871.80608524881|0.11423506743547168|0.8930540669792382|0.10199345739052777|      NULL|        564172.08099962|38.463217770183824|\n",
      "| stddev|        NULL|             NULL|         NULL|      NULL|     NULL|     NULL|                NULL|                NULL|         NULL|                NULL|        NULL|                NULL|   NULL|           NaN| 18.97027831604153|  63.3727277300567|      43926.01073004631|0.13147227193858768|0.5298730971292694| 0.5820697561979572|      NULL|     325722.64677512785|31.718895888270144|\n",
      "|    min|AACTA1000-20|        003-HH1-1|Aacanthocnema|Arthropoda|Arachnida|Amphipoda|       Acanaloniidae|       Aaroniellinae|Aacanthocnema|Aacanthocnema dob...|BOLD:AAA0008|AAAAAAAAAAAAAAAAA...|Albania|      Adzharia|           -46.497|          -158.234|                    0.0|             1.0E-4|            0.0117|                  0|key_unseen|                    0.0|                 0|\n",
      "|    max|  YGEN999-22|ZSM-HYM-39093-H09|  zygJanzen01|Arthropoda|Ostracoda|Zygentoma|unclassified Lepi...|unclassified Tort...|  zygJanzen01|uraMalaise2908 Ma...|BOLD:AFR8969|TTTTTTTTTTTTTTTTT...|Vietnam|       Zambezi|             74.08|          173.2912|               935857.0|             0.9769|           27.0742|                  6|val_unseen|              1128312.0|                ff|\n",
      "+-------+------------+-----------------+-------------+----------+---------+---------+--------------------+--------------------+-------------+--------------------+------------+--------------------+-------+--------------+------------------+------------------+-----------------------+-------------------+------------------+-------------------+----------+-----------------------+------------------+\n",
      "\n"
     ]
    }
   ],
   "source": [
    "#describe the statistic features\n",
    "df.describe().show()"
   ]
  },
  {
   "cell_type": "code",
   "execution_count": 10,
   "id": "c6965c57-1977-4d7e-8ca2-aa6f63163607",
   "metadata": {},
   "outputs": [
    {
     "name": "stdout",
     "output_type": "stream",
     "text": [
      "Total number of rows: 5150850\n"
     ]
    }
   ],
   "source": [
    "total_rows = df.count()\n",
    "print(f\"Total number of rows: {total_rows}\")"
   ]
  },
  {
   "cell_type": "code",
   "execution_count": 11,
   "id": "f84dba82-1a64-4b0e-b711-165a4d0296d0",
   "metadata": {},
   "outputs": [
    {
     "name": "stdout",
     "output_type": "stream",
     "text": [
      "+---------+--------+-----+------+-----+-----+------+---------+-------+-------+-------+-----------+-------+--------------+---------+---------+-----------------------+-------------+------------+--------------+-----+-----------------------+------+\n",
      "|processid|sampleid|taxon|phylum|class|order|family|subfamily|  genus|species|dna_bin|dna_barcode|country|province_state|coord-lat|coord-lon|image_measurement_value|area_fraction|scale_factor|inferred_ranks|split|index_bioscan_1M_insect| chunk|\n",
      "+---------+--------+-----+------+-----+-----+------+---------+-------+-------+-------+-----------+-------+--------------+---------+---------+-----------------------+-------------+------------+--------------+-----+-----------------------+------+\n",
      "|        0|       0|    0|     0| 4013|15863|218076|  3678302|3924085|4677756|  13409|          0|      8|         92132|     1831|     1831|                  46638|            0|           0|             0|    0|                4024462|107301|\n",
      "+---------+--------+-----+------+-----+-----+------+---------+-------+-------+-------+-----------+-------+--------------+---------+---------+-----------------------+-------------+------------+--------------+-----+-----------------------+------+\n",
      "\n"
     ]
    }
   ],
   "source": [
    "# count null values in each column\n",
    "df.select([count(when(isnull(c), c)).alias(c) for c in df.columns]).show()"
   ]
  },
  {
   "cell_type": "code",
   "execution_count": 12,
   "id": "8b8aee01-56d1-42be-a528-1336856d403d",
   "metadata": {},
   "outputs": [
    {
     "name": "stdout",
     "output_type": "stream",
     "text": [
      "+---------------+------+\n",
      "|         family| count|\n",
      "+---------------+------+\n",
      "|  Cecidomyiidae|938928|\n",
      "|   Chironomidae|586347|\n",
      "|       Phoridae|546530|\n",
      "|      Sciaridae|458315|\n",
      "|Ceratopogonidae|323677|\n",
      "|           NULL|218076|\n",
      "|    Psychodidae|172974|\n",
      "|    Scelionidae|110935|\n",
      "|   Cicadellidae|108594|\n",
      "| Dolichopodidae|104308|\n",
      "| Sphaeroceridae| 66133|\n",
      "|     Formicidae| 61783|\n",
      "|     Braconidae| 61495|\n",
      "|  Chrysomelidae| 45325|\n",
      "|  Drosophilidae| 42870|\n",
      "|     Diapriidae| 41349|\n",
      "| Mycetophilidae| 40321|\n",
      "|  Staphylinidae| 39779|\n",
      "|      Hybotidae| 39317|\n",
      "|    Chloropidae| 38756|\n",
      "+---------------+------+\n",
      "only showing top 20 rows\n",
      "\n"
     ]
    }
   ],
   "source": [
    "# Checking for each taxonomic family name\n",
    "df.groupBy(\"family\").count().orderBy(\"count\", ascending=False).show()"
   ]
  },
  {
   "cell_type": "code",
   "execution_count": 13,
   "id": "65f56378-6562-4ec5-a7d5-4464fa521fdc",
   "metadata": {},
   "outputs": [
    {
     "name": "stdout",
     "output_type": "stream",
     "text": [
      "+-----------------------+-------------+\n",
      "|image_measurement_value|area_fraction|\n",
      "+-----------------------+-------------+\n",
      "|                 2353.0|       0.0117|\n",
      "|                 8137.0|       0.0356|\n",
      "|                28915.0|       0.0885|\n",
      "|               129334.0|       0.3962|\n",
      "|                66336.0|       0.2015|\n",
      "+-----------------------+-------------+\n",
      "only showing top 5 rows\n",
      "\n"
     ]
    }
   ],
   "source": [
    "df.select('image_measurement_value','area_fraction').show(5)"
   ]
  },
  {
   "cell_type": "code",
   "execution_count": 14,
   "id": "d041db04-f02b-435f-bbdb-2f2a2b94ba90",
   "metadata": {
    "scrolled": true
   },
   "outputs": [
    {
     "name": "stdout",
     "output_type": "stream",
     "text": [
      "+-------+-----------------------+\n",
      "|summary|image_measurement_value|\n",
      "+-------+-----------------------+\n",
      "|  count|                5104212|\n",
      "|   mean|      26871.80608524881|\n",
      "| stddev|      43926.01073004631|\n",
      "|    min|                    0.0|\n",
      "|    max|               935857.0|\n",
      "+-------+-----------------------+\n",
      "\n"
     ]
    }
   ],
   "source": [
    "# change null values in 'image_measurement_value' to 'unknown'\n",
    "# and show the statistic values\n",
    "from pyspark.sql.functions import when, col\n",
    "df = df.fillna({'image_measurement_value': 'unknown'})\n",
    "df.describe('image_measurement_value').show()"
   ]
  },
  {
   "cell_type": "code",
   "execution_count": 15,
   "id": "b48d7afc-b3aa-4e6d-9040-8fff4e07df05",
   "metadata": {},
   "outputs": [
    {
     "name": "stderr",
     "output_type": "stream",
     "text": [
      "/opt/conda/lib/python3.11/site-packages/pandas/core/arraylike.py:396: RuntimeWarning: divide by zero encountered in log\n",
      "  result = getattr(ufunc, method)(*inputs, **kwargs)\n"
     ]
    },
    {
     "data": {
      "image/png": "[encoded data removed]",
      "text/plain": [
       "<Figure size 640x480 with 1 Axes>"
      ]
     },
     "metadata": {},
     "output_type": "display_data"
    }
   ],
   "source": [
    "# plot the histogram of insects' body sizes\n",
    "df_cleaned = df[df['image_measurement_value'] > 0]\n",
    "pandas_df = df.select('image_measurement_value').toPandas()\n",
    "\n",
    "# original data is so right skewed, so change to log then plot again\n",
    "# pandas_df['image_measurement_value'] = pd.to_numeric(pandas_df['image_measurement_value'], errors='coerce')\n",
    "pandas_df['log_image_measurement_value'] = np.log(pandas_df['image_measurement_value'])\n",
    "sns.histplot(pandas_df['log_image_measurement_value'], bins=100, kde=True)\n",
    "plt.title('Histogram of Log-Transformed Body Sizes')\n",
    "plt.xlabel('Log of Body Size')\n",
    "plt.ylabel('Frequency')\n",
    "plt.show()"
   ]
  },
  {
   "cell_type": "code",
   "execution_count": 16,
   "id": "a42f8eec-5407-4aa9-87ed-cb4c0693269e",
   "metadata": {
    "scrolled": true
   },
   "outputs": [
    {
     "data": {
      "image/png": "[encoded data removed]",
      "text/plain": [
       "<Figure size 640x480 with 1 Axes>"
      ]
     },
     "metadata": {},
     "output_type": "display_data"
    }
   ],
   "source": [
    "# plot the bar chart of the most common families\n",
    "family_df = df.groupBy('family').count()\n",
    "most_common_20_families = family_df.orderBy('count', ascending=False).limit(20)\n",
    "pandas_family_df = most_common_20_families.toPandas()\n",
    "\n",
    "sns.barplot(x = 'family', y = 'count', data = pandas_family_df)\n",
    "plt.title('Barplot of Most Common 20 Families')\n",
    "plt.xlabel('Family')\n",
    "plt.ylabel('Frequency')\n",
    "plt.xticks(rotation=90)\n",
    "plt.show()\n"
   ]
  },
  {
   "cell_type": "code",
   "execution_count": 17,
   "id": "70654818-1ea5-4805-a4ff-6daa27fc4561",
   "metadata": {},
   "outputs": [
    {
     "data": {
      "image/png": "[encoded data removed]",
      "text/plain": [
       "<Figure size 1000x600 with 1 Axes>"
      ]
     },
     "metadata": {},
     "output_type": "display_data"
    }
   ],
   "source": [
    "# Geographic scatterplot (latitude vs. longitude)\n",
    "\n",
    "df_lat_lon_cleaned = df.filter(df['coord-lat'].isNotNull() & df['coord-lon'].isNotNull())\n",
    "\n",
    "pandas_lat_lon_df = df_lat_lon_cleaned.select('coord-lat','coord-lon').toPandas()\n",
    "\n",
    "plt.figure(figsize=(10, 6))\n",
    "sns.scatterplot(x= 'coord-lat', y = 'coord-lon', data = pandas_lat_lon_df)\n",
    "plt.xlabel('Latitude')\n",
    "plt.ylabel('Longitude')\n",
    "plt.title('Geographic scatterplot of Insects')\n",
    "plt.show()"
   ]
  },
  {
   "cell_type": "code",
   "execution_count": null,
   "id": "f9e7b6cf-0d04-4526-bea2-294f0d23b76c",
   "metadata": {},
   "outputs": [],
   "source": [
    "# Testing to see if images are contained within cropped image folders\n",
    "\n",
    "spark = SparkSession.builder.appName(\"ImageLoader\").getOrCreate()\n",
    "\n",
    "df_image = spark.read.format(\"image\").option(\"dropInvalid\", True).load('Data/5m/bioscan5m/images/cropped_256/train/0')\n",
    "image_paths = df_image.select(\"image\").rdd.map(lambda r: r[0]['origin'][7:]).collect()\n",
    "\n",
    "fig, axes = plt.subplots(1, 5, figsize=(15, 5))\n",
    "\n",
    "for i, image_path in enumerate(image_paths[:5]):\n",
    "    img = Image.open(image_path)\n",
    "    axes[i].imshow(img)\n",
    "    axes[i].axis('off')\n",
    "\n",
    "plt.show()"
   ]
  },
  {
   "cell_type": "code",
   "execution_count": null,
   "id": "489bfece-04a8-4290-8e6d-6e174d9e4b06",
   "metadata": {},
   "outputs": [],
   "source": [
    "# Verifying quality of images by sampling 50 images per class, and checking for any corrupted or wrong-sized images\n",
    "import os\n",
    "BASE_DIR         = \"Data/5m/bioscan5m\"\n",
    "IMAGE_TRAIN_DIR  = os.path.join(BASE_DIR, \"images\", \"cropped_256\", \"train\")\n",
    "\n",
    "\n",
    "MAX_PER_CLASS    = 50\n",
    "expected_size    = (256, 256)\n",
    "\n",
    "\n",
    "classes = sorted(os.listdir(IMAGE_TRAIN_DIR))\n",
    "\n",
    "sampled_paths = []\n",
    "for cls in classes:\n",
    "    cls_dir = os.path.join(IMAGE_TRAIN_DIR, cls)\n",
    "    all_imgs = os.listdir(cls_dir)\n",
    "    \n",
    "    k = min(len(all_imgs), MAX_PER_CLASS)\n",
    "    picks = random.sample(all_imgs, k)\n",
    "    sampled_paths += [os.path.join(cls_dir, f) for f in picks]\n",
    "\n",
    "print(f\" Sampling {len(sampled_paths)} images \"\n",
    "      f\"({MAX_PER_CLASS} per each of {len(classes)} classes)\")\n",
    "\n",
    "valid, corrupt, wrong_size = [], [], []\n",
    "for fpath in sampled_paths:\n",
    "    try:\n",
    "        with Image.open(fpath) as img:\n",
    "            img.verify()\n",
    "        with Image.open(fpath) as img2:\n",
    "            if img2.size != expected_size:\n",
    "                wrong_size.append((fpath, img2.size))\n",
    "        valid.append(fpath)\n",
    "    except (UnidentifiedImageError, OSError):\n",
    "        corrupt.append(fpath)\n",
    "\n",
    "\n",
    "print(f\" Valid in sample:        {len(valid)}\")\n",
    "print(f\" Corrupt in sample:      {len(corrupt)}\")\n",
    "print(f\" Wrong-size in sample: {len(wrong_size)}\")\n",
    "if wrong_size:\n",
    "    print(\"Example bad size:\", wrong_size[0])"
   ]
  },
  {
   "cell_type": "code",
   "execution_count": null,
   "id": "4339532f-f752-40c7-a25e-3763b464829e",
   "metadata": {},
   "outputs": [],
   "source": [
    "# 3x3 Grid sample images from different classes\n",
    "\n",
    "sampled_classes = random.sample(classes, 9)\n",
    "\n",
    "fig, axes = plt.subplots(3, 3, figsize=(9, 9))\n",
    "for idx, cls in enumerate(sampled_classes):\n",
    "    cls_dir = os.path.join(IMAGE_TRAIN_DIR, cls)\n",
    "    img_name = random.choice(os.listdir(cls_dir))\n",
    "    img_path = os.path.join(cls_dir, img_name)\n",
    "    img = Image.open(img_path)\n",
    "    \n",
    "    ax = axes[idx // 3, idx % 3]\n",
    "    ax.imshow(img)\n",
    "    ax.set_title(f\"Class {cls}\")\n",
    "    ax.axis(\"off\")\n",
    "\n",
    "plt.suptitle(\"3×3 Grid: One Random Image per Class\", fontsize=16)\n",
    "plt.tight_layout(rect=[0, 0, 1, 0.96])\n",
    "plt.show()"
   ]
  },
  {
   "cell_type": "code",
   "execution_count": null,
   "id": "7ff67937-a034-4bd8-86a6-b73aea15c4d9",
   "metadata": {},
   "outputs": [],
   "source": [
    "# Checking columns and ranking insect \"order\" for the top 10 orders by image counts (Diptera group has the most image samples) \n",
    "df = pd.read_csv(\"Data/5m/bioscan5m/metadata/csv/BIOSCAN_5M_Insect_Dataset_metadata.csv\")\n",
    "\n",
    "print(\"Columns in metadata:\", df.columns.tolist())\n",
    "\n",
    "for rank in ['order', 'family', 'genus', 'species']:\n",
    "    if rank in df.columns:\n",
    "        unique_count = df[rank].nunique()\n",
    "        print(f\" Distinct {rank.capitalize()}s: {unique_count}\")\n",
    "print()\n",
    "\n",
    "\n",
    "order_counts = df['order'].value_counts().reset_index()\n",
    "order_counts.columns = ['order', 'image_count']\n",
    "print(\"Top 10 Orders by Image Count:\")\n",
    "print(order_counts.head(10).to_string(index=False))\n",
    "\n",
    "plt.figure(figsize=(12,5))\n",
    "sns.barplot(\n",
    "    data=order_counts.head(10),\n",
    "    x='order', y='image_count')\n",
    "plt.xticks(rotation=45)\n",
    "plt.title(\"Top 10 Insect Orders by Number of Images\")\n",
    "plt.tight_layout()\n",
    "plt.show()"
   ]
  },
  {
   "cell_type": "code",
   "execution_count": null,
   "id": "7b6c6119-8bc5-4e48-a2a1-9f0a49e39385",
   "metadata": {},
   "outputs": [],
   "source": [
    "# Data Preprocessing"
   ]
  },
  {
   "cell_type": "code",
   "execution_count": null,
   "id": "348acc84-9906-455a-a7ba-02e6cf51c23d",
   "metadata": {},
   "outputs": [],
   "source": [
    "# for few missing values, use mode to fill in\n",
    "df = df.fillna({\n",
    "    'country': df.select('country').groupBy().agg({'country':'max'}).collect()[0][0],\n",
    "    'coord-lat': df.select('coord-lat').groupBy().agg({'coord-lat':'max'}).collect()[0][0],\n",
    "    'coord-lon': df.select('coord-lon').groupBy().agg({'coord-lon':'max'}).collect()[0][0],\n",
    "})\n",
    "\n",
    "# for many missing values, drop some unimportant columns\n",
    "df = df.drop('subfamily', 'genus', 'species', 'index_bioscan_1M_insect', 'chunk')\n",
    "\n",
    "# for some important columns, use mode or median to fill in\n",
    "df = df.fillna({\n",
    "    'family': df.select('family').groupBy().agg({'family': 'max'}).collect()[0][0],  \n",
    "    'image_measurement_value': df.approxQuantile('image_measurement_value', [0.5], 0)[0]  \n",
    "})\n",
    "\n",
    "# for some important columns, drop some lines\n",
    "df_cleaned = df.filter(df['coord-lat'].isNotNull() & df['coord-lon'].isNotNull())"
   ]
  },
  {
   "cell_type": "code",
   "execution_count": null,
   "id": "79903f70-7b07-4c81-965e-b895f075cc31",
   "metadata": {},
   "outputs": [],
   "source": [
    "# cleaning DNA values"
   ]
  },
  {
   "cell_type": "code",
   "execution_count": null,
   "id": "178e29bd-5446-4886-afe8-5bc19bf62ec2",
   "metadata": {},
   "outputs": [],
   "source": [
    "df_cleaned.select('dna_barcode').show(5)"
   ]
  },
  {
   "cell_type": "code",
   "execution_count": null,
   "id": "77e8c5dd-d913-4084-8f28-8771ea476400",
   "metadata": {},
   "outputs": [],
   "source": [
    "# use k_mer and one_hot_encode\n",
    "def generate_kmers(sequence, k=6):\n",
    "    return [sequence[i:i+k] for i in range(0, len(sequence), k)]\n",
    "\n",
    "generate_kmers_udf = udf(generate_kmers, ArrayType(StringType()))\n",
    "\n",
    "df_cleaned_kmer = df_cleaned.withColumn('k_mer', generate_kmers_udf(df_cleaned['dna_barcode'], lit(6)))"
   ]
  },
  {
   "cell_type": "code",
   "execution_count": null,
   "id": "d9516e14-8111-4598-992e-f5f8308e836b",
   "metadata": {},
   "outputs": [],
   "source": [
    "def one_hot_encode(sequence):\n",
    "    encoding = {'A': [1, 0, 0, 0], 'C': [0, 1, 0, 0], 'G': [0, 0, 1, 0], 'T': [0, 0, 0, 1]}\n",
    "    return [encoding.get(nucleotide, [0, 0, 0, 0]) for nucleotide in sequence]\n",
    "\n",
    "one_hot_encode_udf = udf(one_hot_encode, ArrayType(ArrayType(IntegerType())))\n",
    "df_cleaned_DNA = df_cleaned_kmer.withColumn('one_hot_encoded', one_hot_encode_udf(df_cleaned_kmer['k_mer']))"
   ]
  },
  {
   "cell_type": "code",
   "execution_count": null,
   "id": "50831809-1570-4842-9757-0076ed49af4f",
   "metadata": {},
   "outputs": [],
   "source": [
    "print(df_cleaned_DNA.columns)"
   ]
  },
  {
   "cell_type": "code",
   "execution_count": null,
   "id": "4662f0be-e800-4c40-9e6a-55b752b5f4a3",
   "metadata": {},
   "outputs": [],
   "source": [
    "# filter some poor-quality values"
   ]
  },
  {
   "cell_type": "code",
   "execution_count": null,
   "id": "9949f5b2-c6bd-4f1a-ba08-a1ef5ccfaff1",
   "metadata": {},
   "outputs": [],
   "source": [
    "df_cleaned_DNA = df_cleaned_DNA.withColumn('sequence_length', length(df_cleaned_DNA['dna_barcode']))\n",
    "\n",
    "df_cleaned_DNA = df_cleaned_DNA.filter(df_cleaned_DNA['sequence_length']>100)\n",
    "df_cleaned_DNA = df_cleaned_DNA.filter(~df_cleaned_DNA['dna_barcode'].contains('N'))"
   ]
  },
  {
   "cell_type": "code",
   "execution_count": null,
   "id": "7e16e5df-bc18-43f9-9455-1a1ac4100a6a",
   "metadata": {},
   "outputs": [],
   "source": [
    "# standardize geographic data"
   ]
  },
  {
   "cell_type": "code",
   "execution_count": null,
   "id": "60e2bb64-77dd-4b9a-a461-8acb19317cd6",
   "metadata": {},
   "outputs": [],
   "source": [
    "df_cleaned_DNA_geography = df_cleaned_DNA.filter( df_cleaned_DNA['coord-lat']\n",
    "                                                 .isNotNull() &  df_cleaned_DNA['coord-lon']\n",
    "                                                 .isNotNull())"
   ]
  },
  {
   "cell_type": "code",
   "execution_count": null,
   "id": "8bd9e79e-24a6-4aee-966a-a6d08ff3b3db",
   "metadata": {},
   "outputs": [],
   "source": [
    "# convert lon&lat to float\n",
    "df_cleaned_DNA_geography = df_cleaned_DNA_geography.withColumn('coord-lat', col('coord-lat').cast('float'))\n",
    "df_cleaned_DNA_geography = df_cleaned_DNA_geography.withColumn('coord-lon', col('coord-lon').cast('float'))\n"
   ]
  },
  {
   "cell_type": "code",
   "execution_count": null,
   "id": "c1dc699d-3457-4c5a-9510-ae6084005223",
   "metadata": {},
   "outputs": [],
   "source": [
    "# handling some invalid geographic values\n",
    "df_cleaned_DNA_geography = df_cleaned_DNA_geography.filter(\n",
    "    (df_cleaned_DNA_geography['coord-lat'] >= -90) & (df_cleaned_DNA_geography['coord-lat'] <= 90) & \n",
    "    (df_cleaned_DNA_geography['coord-lon'] >= -180) & (df_cleaned_DNA_geography['coord-lon'] <= 180)\n",
    ")\n"
   ]
  },
  {
   "cell_type": "code",
   "execution_count": null,
   "id": "7daa1f37-1567-42f3-b180-4ef7bfefcb5a",
   "metadata": {},
   "outputs": [],
   "source": [
    "# create a pandas_udf，encode lon&lat using geohash\n",
    "@pandas_udf(StringType())\n",
    "def geohash_udf(lat_series, lon_series):\n",
    "    return lat_series.combine(lon_series, lambda lat, lon: geohash.encode(lat, lon, precision=5))\n",
    "\n",
    "# using geohash_udf to get geohash\n",
    "df_cleaned_DNA_geography = df_cleaned_DNA_geography.withColumn('geohash', geohash_udf(df_cleaned_DNA_geography['coord-lat'], df_cleaned_DNA_geography['coord-lon']))\n",
    "df_cleaned_DNA_geography.show(5)\n"
   ]
  },
  {
   "cell_type": "code",
   "execution_count": null,
   "id": "6656f830-8d4f-4ced-b809-594d0e0bc9c7",
   "metadata": {},
   "outputs": [],
   "source": [
    "# KMeans clustering"
   ]
  },
  {
   "cell_type": "code",
   "execution_count": null,
   "id": "cb5bda59-d01c-4d6e-8b27-971632093fd0",
   "metadata": {},
   "outputs": [],
   "source": [
    "assembler = VectorAssembler(inputCols = ['coord-lat','coord-lon'], outputCol = 'features')\n",
    "kmeans = KMeans (k = 5, seed = 42, featuresCol = 'features', predictionCol = 'cluster')"
   ]
  },
  {
   "cell_type": "code",
   "execution_count": null,
   "id": "c170f149-8c75-4c2a-8208-96f3a0a4853a",
   "metadata": {},
   "outputs": [],
   "source": [
    "pipeline = Pipeline(stages = [assembler, kmeans])\n",
    "model = pipeline.fit(df_cleaned_DNA_geography)\n",
    "predictions = model.transform(df_cleaned_DNA_geography)\n",
    "predictions = predictions.select(\"coord-lat\", \"coord-lon\", \"cluster\")\n",
    "\n",
    "predictions.select('coord-lat','coord-lon','cluster').show(5)"
   ]
  },
  {
   "cell_type": "code",
   "execution_count": null,
   "id": "a89444eb-374f-406f-bb3e-a0ae4c81ce7b",
   "metadata": {},
   "outputs": [],
   "source": [
    "# Adjust image sizes by 256 x 256\n",
    "from tqdm import tqdm  \n",
    "\n",
    "RAW_DIR       = \"Data/5m/bioscan5m/images/cropped_256/train\"\n",
    "RESIZED_ROOT  = \"Data/5m/bioscan5m/images_resized/256x256/train\"\n",
    "TARGET_SIZE   = (256, 256)\n",
    "\n",
    "for class_id in os.listdir(RAW_DIR):\n",
    "    src_cls_dir = os.path.join(RAW_DIR, class_id)\n",
    "    dst_cls_dir = os.path.join(RESIZED_ROOT, class_id)\n",
    "    os.makedirs(dst_cls_dir, exist_ok=True)\n",
    "    \n",
    "    files = [f for f in os.listdir(src_cls_dir) \n",
    "             if f.lower().endswith(('.png','.jpg','.jpeg'))]\n",
    "    \n",
    "    for fname in tqdm(files, desc=f\"Resizing {class_id}\", unit=\"img\"):\n",
    "        src_path = os.path.join(src_cls_dir, fname)\n",
    "        dst_path = os.path.join(dst_cls_dir, fname)\n",
    "        \n",
    "        try:\n",
    "            with Image.open(src_path) as img:\n",
    "                img_resized = img.resize(TARGET_SIZE, Image.Resampling.BILINEAR)\n",
    "                img_resized.save(dst_path)\n",
    "        except Exception as e:\n",
    "            print(f\"  Skipped {src_path}: {e}\")"
   ]
  },
  {
   "cell_type": "code",
   "execution_count": null,
   "id": "1db7ee26-c688-4d8a-8cbd-ce82d438fb41",
   "metadata": {},
   "outputs": [],
   "source": [
    "# Normalize pixel values to [0,1]\n",
    "\n",
    "RESIZED_DIR = \"Data/5m/bioscan5m/images_resized/256x256/train\"\n",
    "NORMALIZED_ROOT = \"Data/5m/bioscan5m/images_normalized/256x256/train\"\n",
    "\n",
    "\n",
    "for cls in os.listdir(RESIZED_DIR):\n",
    "    os.makedirs(os.path.join(NORMALIZED_ROOT, cls), exist_ok=True)\n",
    "\n",
    "for cls in os.listdir(RESIZED_DIR):\n",
    "    src_cls = os.path.join(RESIZED_DIR, cls)\n",
    "    dst_cls = os.path.join(NORMALIZED_ROOT, cls)\n",
    "    for fname in os.listdir(src_cls):\n",
    "        src_path = os.path.join(src_cls, fname)\n",
    "        dst_path = os.path.join(dst_cls, fname)\n",
    "        \n",
    "        img = Image.open(src_path)\n",
    "        arr = np.asarray(img, dtype=np.float32) / 255.0\n",
    "        np.save(dst_path.replace('.jpg', '.npy'), arr)"
   ]
  },
  {
   "cell_type": "code",
   "execution_count": null,
   "id": "82b7722a-4ba6-404d-9ad5-cc8e4d4e3313",
   "metadata": {},
   "outputs": [],
   "source": [
    "# Applying data augmentation\n",
    "\n",
    "# Random rotation\n",
    "augmentations = T.Compose([\n",
    "    T.RandomRotation(degrees=30),\n",
    "\n",
    "\n",
    "\n",
    "# Random horizontal and vertical flips\n",
    "    T.RandomHorizontalFlip(p=0.5),\n",
    "    T.RandomVerticalFlip(p=0.5),\n",
    "\n",
    "# Convert to tensor & normalize to [0,1]\n",
    "    T.ToTensor(),\n",
    "])\n",
    "\n",
    "\n",
    "train_dataset = ImageFolder(\n",
    "    root=\"Data/5m/bioscan5m/images_resized/256x256/train\",\n",
    "    transform=augmentations\n",
    ")\n",
    "\n",
    "train_loader = DataLoader(\n",
    "    train_dataset, batch_size=32, shuffle=True, num_workers=4, pin_memory=True\n",
    ")\n",
    "\n",
    "batch_imgs, batch_labels = next(iter(train_loader))\n",
    "print(\"Batch shape:\", batch_imgs.shape)"
   ]
  },
  {
   "cell_type": "code",
   "execution_count": null,
   "id": "025d7739-62f1-4849-9f1b-1c77b69bd740",
   "metadata": {},
   "outputs": [],
   "source": [
    "# Splitting dataset into train, validation, test directories to preserve class balance\n",
    "\n",
    "# Train, Val, Test proportion: 0.7, 0.15, 0.15\n",
    "RAW_DIR      = \"Data/5m/bioscan5m/images_resized/256x256/train\" \n",
    "OUTPUT_ROOT  = \"Data/5m/bioscan5m/images_split\"\n",
    "RATIOS       = (0.7, 0.15, 0.15) \n",
    "SEED         = 42\n",
    "\n",
    "splits = ['train', 'val', 'test']\n",
    "for sp in splits:\n",
    "    for cls in os.listdir(RAW_DIR):\n",
    "        os.makedirs(os.path.join(OUTPUT_ROOT, sp, cls), exist_ok=True)\n",
    "\n",
    "for cls in os.listdir(RAW_DIR):\n",
    "    cls_src = os.path.join(RAW_DIR, cls)\n",
    "    imgs    = [f for f in os.listdir(cls_src) if f.lower().endswith(('.png','.jpg','.jpeg'))]\n",
    "\n",
    "\n",
    "    train_imgs, temp_imgs = train_test_split(\n",
    "        imgs,\n",
    "        train_size=RATIOS[0],\n",
    "        random_state=SEED,\n",
    "        shuffle=True\n",
    "    )\n",
    "\n",
    "    val_ratio = RATIOS[1] / (RATIOS[1] + RATIOS[2])\n",
    "    val_imgs, test_imgs = train_test_split(\n",
    "        temp_imgs,\n",
    "        train_size=val_ratio,\n",
    "        random_state=SEED,\n",
    "        shuffle=True\n",
    "    )\n",
    "\n",
    "    for fname in train_imgs:\n",
    "        shutil.copy(\n",
    "            os.path.join(cls_src, fname),\n",
    "            os.path.join(OUTPUT_ROOT, 'train', cls, fname)\n",
    "        )\n",
    "    for fname in val_imgs:\n",
    "        shutil.copy(\n",
    "            os.path.join(cls_src, fname),\n",
    "            os.path.join(OUTPUT_ROOT, 'val', cls, fname)\n",
    "        )\n",
    "    for fname in test_imgs:\n",
    "        shutil.copy(\n",
    "            os.path.join(cls_src, fname),\n",
    "            os.path.join(OUTPUT_ROOT, 'test', cls, fname)\n",
    "        )\n",
    "\n",
    "print(\"Dataset split complete:\")\n",
    "print(f\"   Train → {RATIOS[0]*100:.0f}%\")\n",
    "print(f\"   Val   → {RATIOS[1]*100:.0f}%\")\n",
    "print(f\"   Test  → {RATIOS[2]*100:.0f}%\")"
   ]
  },
  {
   "cell_type": "code",
   "execution_count": null,
   "id": "45414826-94c6-4d87-9c3a-afafe357d127",
   "metadata": {},
   "outputs": [],
   "source": [
    "# Visualizing specimen locations on a map\n",
    "df = pd.read_csv(\"Data/5m/bioscan5m/metadata/csv/BIOSCAN_5M_Insect_Dataset_metadata.csv\")\n",
    "coords = df[['latitude', 'longitude']].dropna()\n",
    "\n",
    "center = [coords['latitude'].mean(), coords['longitude'].mean()]\n",
    "\n",
    "\n",
    "m = folium.Map(location=center, zoom_start=2)\n",
    "\n",
    "for _, row in coords.iterrows():\n",
    "    folium.CircleMarker(\n",
    "        location=[row['latitude'], row['longitude']],\n",
    "        radius=2,\n",
    "        color='blue',\n",
    "        fill=True,\n",
    "        fill_opacity=0.6\n",
    "    ).add_to(m)\n",
    "\n",
    "m.save(\"specimen_locations_map.html\")\n",
    "m  "
   ]
  },
  {
   "cell_type": "code",
   "execution_count": null,
   "id": "ff15c44a-683f-4bf3-83e9-bc79c6d41c37",
   "metadata": {},
   "outputs": [],
   "source": [
    "# Visualisation and reporting"
   ]
  },
  {
   "cell_type": "code",
   "execution_count": null,
   "id": "8bfdcfab-a538-45f6-abdc-7e357464cd8e",
   "metadata": {},
   "outputs": [],
   "source": [
    "# After cleaning the data, plot again\n",
    "# plot histogram of insects' size\n",
    "\n",
    "plt.figure(figsize=(10, 6))\n",
    "size_df = df_cleaned_DNA_geography[df_cleaned_DNA_geography['image_measurement_value'] > 0]\n",
    "pandas_size_df = size_df.select('image_measurement_value').toPandas()\n",
    "\n",
    "pandas_size_df['log_image_measurement_value'] = np.log(pandas_size_df['image_measurement_value'])\n",
    "sns.histplot(pandas_size_df['log_image_measurement_value'], bins=100, kde=True)\n",
    "plt.title('Histogram of Log-Transformed Body Sizes')\n",
    "plt.xlabel('Log of Body Size')\n",
    "plt.ylabel('Frequency')\n",
    "plt.show()"
   ]
  },
  {
   "cell_type": "code",
   "execution_count": null,
   "id": "84cd8c36-ba70-461c-8654-608e5afcb448",
   "metadata": {},
   "outputs": [],
   "source": [
    "# plot bar chart of the most common families\n",
    "family_counts = df_cleaned_DNA_geography.groupBy('family').count()\n",
    "\n",
    "most_common_10_families = family_counts.orderBy('count', ascending=False).limit(10)\n",
    "pandas_family_df_clean = most_common_10_families.toPandas()\n",
    "\n",
    "sns.barplot(x='family', y='count', data = pandas_family_df_clean)\n",
    "plt.title('Top 10 Most Common Families')\n",
    "plt.xlabel('Family')\n",
    "plt.ylabel('Count')\n",
    "plt.xticks(rotation=90)\n",
    "plt.show()\n"
   ]
  },
  {
   "cell_type": "code",
   "execution_count": null,
   "id": "e9a80f9f-9260-4ad3-b840-c72403a1a04a",
   "metadata": {},
   "outputs": [],
   "source": [
    "# Geographic scatterplot (latitude vs. longitude)\n",
    "\n",
    "pandas_lat_lon_df_cleaned = df_cleaned_DNA_geography.select('coord-lat','coord-lon').toPandas()\n",
    "plt.figure(figsize=(10, 6))\n",
    "sns.scatterplot(x= 'coord-lat', y = 'coord-lon', data = pandas_lat_lon_df_cleaned, alpha=0.5)\n",
    "plt.title('Geographic Distribution of Species')\n",
    "plt.xlabel('Longitude')\n",
    "plt.ylabel('Latitude')\n",
    "plt.show()\n"
   ]
  },
  {
   "cell_type": "code",
   "execution_count": null,
   "id": "9942b019-18d7-441b-abaa-90f2bd024eaf",
   "metadata": {},
   "outputs": [],
   "source": [
    "# save the cleaned dataset to parquet file\n",
    "df_cleaned_DNA_geography.write.parquet(\"hzhao16/clean_metadata.parquet\")"
   ]
  },
  {
   "cell_type": "code",
   "execution_count": null,
   "id": "88970d67-a983-4c84-a7ce-09e33007cba6",
   "metadata": {},
   "outputs": [],
   "source": []
  },
  {
   "cell_type": "code",
   "execution_count": null,
   "id": "a143efb8-4271-4b02-bbe9-174d01dc82d1",
   "metadata": {},
   "outputs": [],
   "source": []
  },
  {
   "cell_type": "code",
   "execution_count": null,
   "id": "8bb6f164-8adc-43c7-9942-d9851b4b2a6c",
   "metadata": {},
   "outputs": [],
   "source": []
  },
  {
   "cell_type": "code",
   "execution_count": null,
   "id": "2977b2c6-2878-4e1d-a343-45843d213808",
   "metadata": {},
   "outputs": [],
   "source": []
  },
  {
   "cell_type": "code",
   "execution_count": null,
   "id": "f1b43b40-85d8-433b-9f47-b86561c5ba12",
   "metadata": {},
   "outputs": [],
   "source": []
  }
 ],
 "metadata": {
  "kernelspec": {
   "display_name": "Python 3 (ipykernel)",
   "language": "python",
   "name": "python3"
  },
  "language_info": {
   "codemirror_mode": {
    "name": "ipython",
    "version": 3
   },
   "file_extension": ".py",
   "mimetype": "text/x-python",
   "name": "python",
   "nbconvert_exporter": "python",
   "pygments_lexer": "ipython3",
   "version": "3.11.6"
  }
 },
 "nbformat": 4,
 "nbformat_minor": 5
}
